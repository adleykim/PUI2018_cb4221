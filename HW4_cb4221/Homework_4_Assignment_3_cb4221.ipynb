{
 "cells": [
  {
   "cell_type": "code",
   "execution_count": 42,
   "metadata": {},
   "outputs": [],
   "source": [
    "from __future__  import print_function, division\n",
    "import pandas as pd\n"
   ]
  },
  {
   "cell_type": "markdown",
   "metadata": {},
   "source": [
    "Idea: the new bus route will expand bus options for users and therefore reduce commute time. \n",
    "\n",
    "H0: Commute times are the same or longer as they were before the new bus route. \n",
    "    Commute_new >= Commute_old\n",
    "    \n",
    "Ha: Commute times will improve (be shorter) with the new bus route. \n",
    "    Commute_old > Commute_new\n",
    "\n",
    "alpha = .05"
   ]
  },
  {
   "cell_type": "code",
   "execution_count": 43,
   "metadata": {},
   "outputs": [
    {
     "name": "stdout",
     "output_type": "stream",
     "text": [
      "201501-citibike-tripdata.csv  201509-citibike-tripdata.csv  scores.csv\r\n",
      "201501-citibike-tripdata.zip  201509-citibike-tripdata.zip  times.txt\r\n",
      "201502-citibike-tripdata.csv  construction_projects.csv     tripdata.csv\r\n",
      "201502-citibike-tripdata.zip  satscores.csv\t\t    water.csv\r\n"
     ]
    }
   ],
   "source": [
    "# making sure times.txt is in PUIDATA\n",
    "os.environ['PUIDATA'] = '/nfshome/cb4221/PUIDATA'\n",
    "!ls $PUIDATA"
   ]
  },
  {
   "cell_type": "code",
   "execution_count": 49,
   "metadata": {},
   "outputs": [
    {
     "data": {
      "text/html": [
       "<div>\n",
       "<table border=\"1\" class=\"dataframe\">\n",
       "  <thead>\n",
       "    <tr style=\"text-align: right;\">\n",
       "      <th></th>\n",
       "      <th>0</th>\n",
       "    </tr>\n",
       "  </thead>\n",
       "  <tbody>\n",
       "    <tr>\n",
       "      <th>0</th>\n",
       "      <td>31.622239</td>\n",
       "    </tr>\n",
       "    <tr>\n",
       "      <th>1</th>\n",
       "      <td>32.821376</td>\n",
       "    </tr>\n",
       "    <tr>\n",
       "      <th>2</th>\n",
       "      <td>30.229101</td>\n",
       "    </tr>\n",
       "    <tr>\n",
       "      <th>3</th>\n",
       "      <td>31.413766</td>\n",
       "    </tr>\n",
       "    <tr>\n",
       "      <th>4</th>\n",
       "      <td>39.010550</td>\n",
       "    </tr>\n",
       "  </tbody>\n",
       "</table>\n",
       "</div>"
      ],
      "text/plain": [
       "           0\n",
       "0  31.622239\n",
       "1  32.821376\n",
       "2  30.229101\n",
       "3  31.413766\n",
       "4  39.010550"
      ]
     },
     "execution_count": 49,
     "metadata": {},
     "output_type": "execute_result"
    }
   ],
   "source": [
    "# reading in the sample data \n",
    "times = pd.read_csv(\"%s/times.txt\"%os.getenv(\"PUIDATA\"),engine = 'python', header=None)\n",
    "times.head()"
   ]
  },
  {
   "cell_type": "code",
   "execution_count": 45,
   "metadata": {},
   "outputs": [],
   "source": [
    "# setting up variables \n",
    "sample_mean = times.mean()\n",
    "times.tail() # N=100\n",
    "pop_mean = 36\n",
    "pop_std = 6"
   ]
  },
  {
   "cell_type": "code",
   "execution_count": 47,
   "metadata": {},
   "outputs": [
    {
     "name": "stdout",
     "output_type": "stream",
     "text": [
      "0    0.025564\n",
      "dtype: float64\n"
     ]
    }
   ],
   "source": [
    "# calculating the Z score\n",
    "z = (pop_mean - sample_mean)/(pop_std)/(100**(1/2))\n",
    "print(z)"
   ]
  },
  {
   "cell_type": "markdown",
   "metadata": {},
   "source": [
    "Conclusions: With a z-score of .025, we reject the null hypothesis at the 95% significance level. "
   ]
  },
  {
   "cell_type": "code",
   "execution_count": null,
   "metadata": {},
   "outputs": [],
   "source": []
  }
 ],
 "metadata": {
  "kernelspec": {
   "display_name": "PUI2016_Python3",
   "language": "python",
   "name": "pui2016_python3"
  },
  "language_info": {
   "codemirror_mode": {
    "name": "ipython",
    "version": 3
   },
   "file_extension": ".py",
   "mimetype": "text/x-python",
   "name": "python",
   "nbconvert_exporter": "python",
   "pygments_lexer": "ipython3",
   "version": "3.5.4"
  }
 },
 "nbformat": 4,
 "nbformat_minor": 2
}
